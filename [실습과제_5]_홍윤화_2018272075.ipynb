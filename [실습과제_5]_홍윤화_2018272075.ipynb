{
  "cells": [
    {
      "cell_type": "code",
      "execution_count": 1,
      "metadata": {
        "id": "ZIRrHC74J9fi"
      },
      "outputs": [],
      "source": [
        "import tensorflow as tf \n",
        "import tensorflow.keras as keras \n",
        "import numpy as np"
      ]
    },
    {
      "cell_type": "code",
      "execution_count": 2,
      "metadata": {
        "id": "M9nTM4w0J9fs"
      },
      "outputs": [],
      "source": [
        "with open('날개.txt', 'r', encoding='utf-8') as f:\n",
        "    text = f.read()"
      ]
    },
    {
      "cell_type": "code",
      "execution_count": 3,
      "metadata": {
        "colab": {
          "base_uri": "https://localhost:8080/"
        },
        "id": "fDSxSqdPJ9fu",
        "outputId": "79eeaa51-180e-4030-caec-14f523bf6748"
      },
      "outputs": [
        {
          "output_type": "execute_result",
          "data": {
            "text/plain": [
              "23293"
            ]
          },
          "metadata": {},
          "execution_count": 3
        }
      ],
      "source": [
        "len(text)"
      ]
    },
    {
      "cell_type": "code",
      "execution_count": 4,
      "metadata": {
        "colab": {
          "base_uri": "https://localhost:8080/",
          "height": 35
        },
        "id": "NXEgWNX3J9fx",
        "outputId": "63c8df12-bc2d-4b32-af5f-60dc3be1c689"
      },
      "outputs": [
        {
          "output_type": "execute_result",
          "data": {
            "application/vnd.google.colaboratory.intrinsic+json": {
              "type": "string"
            },
            "text/plain": [
              "'만 더 날아 보자꾸나. <1936>\\n'"
            ]
          },
          "metadata": {},
          "execution_count": 4
        }
      ],
      "source": [
        "text[-20:]"
      ]
    },
    {
      "cell_type": "code",
      "execution_count": 5,
      "metadata": {
        "id": "jfiafg2QJ9fy"
      },
      "outputs": [],
      "source": [
        "tokenizer = tf.keras.preprocessing.text.Tokenizer(lower=False, char_level=True) \n",
        "tokenizer.fit_on_texts(text)"
      ]
    },
    {
      "cell_type": "code",
      "execution_count": 6,
      "metadata": {
        "colab": {
          "base_uri": "https://localhost:8080/"
        },
        "id": "1EXriC8mJ9fz",
        "outputId": "d83b6863-0470-406f-9c15-061aaaf8c42d"
      },
      "outputs": [
        {
          "output_type": "execute_result",
          "data": {
            "text/plain": [
              "813"
            ]
          },
          "metadata": {},
          "execution_count": 6
        }
      ],
      "source": [
        "len(tokenizer.word_index)"
      ]
    },
    {
      "cell_type": "markdown",
      "metadata": {
        "id": "-vORrbSFJ9f1"
      },
      "source": [
        "max_id : 고유 글자 개수 (1,247개) \n",
        "\n",
        "dataset_size: 전체 글자 개수 (239,261개)"
      ]
    },
    {
      "cell_type": "code",
      "execution_count": 7,
      "metadata": {
        "id": "6kmK-E07J9f5"
      },
      "outputs": [],
      "source": [
        "max_id = len(tokenizer.word_index) # number of distinct characters\n",
        "dataset_size = tokenizer.document_count # total number of characters"
      ]
    },
    {
      "cell_type": "code",
      "execution_count": 8,
      "metadata": {
        "colab": {
          "base_uri": "https://localhost:8080/"
        },
        "id": "tMlIJ3SwJ9f7",
        "outputId": "3d3b87e0-aee3-4c50-a6ef-d3952bd69dc7"
      },
      "outputs": [
        {
          "output_type": "stream",
          "name": "stdout",
          "text": [
            "813\n",
            "23293\n"
          ]
        }
      ],
      "source": [
        "print(max_id)\n",
        "print(dataset_size)"
      ]
    },
    {
      "cell_type": "markdown",
      "metadata": {
        "id": "bm8kvyWrJ9f8"
      },
      "source": [
        "전체 텍스트를 Encoding해서 각 글자를 ID로 나타내기 \n",
        "\n",
        "(0부터 시작하기 위해서 1 빼기) "
      ]
    },
    {
      "cell_type": "code",
      "execution_count": 9,
      "metadata": {
        "id": "Nbg6Eb48J9f-"
      },
      "outputs": [],
      "source": [
        "[encoded] = np.array(tokenizer.texts_to_sequences([text])) - 1"
      ]
    },
    {
      "cell_type": "markdown",
      "metadata": {
        "id": "kjV-hwjpJ9f-"
      },
      "source": [
        "텍스트의 처음 90%를 훈련 세트로 사용 \n",
        "\n",
        "이 텍스트 세트에서 한 번에 한 글자씩 반환하는 tf.data.Dataset 객체 만들기 "
      ]
    },
    {
      "cell_type": "code",
      "execution_count": 10,
      "metadata": {
        "id": "d_zmC91WJ9f_"
      },
      "outputs": [],
      "source": [
        "train_size = dataset_size * 90 // 100\n",
        "dataset = tf.data.Dataset.from_tensor_slices(encoded[:train_size])"
      ]
    },
    {
      "cell_type": "markdown",
      "metadata": {
        "id": "R8mAe8QRJ9gA"
      },
      "source": [
        "window() method를 사용해서 여러 텍스트 window로 변환 \n",
        "\n",
        "100(모델이 보는 데이터) + 1(모델이 맞추어야 하는 데이터) \n",
        "\n",
        "RNN은 이 부분 문자열 길이만큼만 Back-propagation \n",
        "\n",
        "Truncated BackPropagation Through Time(TBPTT) "
      ]
    },
    {
      "cell_type": "code",
      "execution_count": 11,
      "metadata": {
        "id": "9BYn4-3bJ9gB"
      },
      "outputs": [],
      "source": [
        "n_steps = 100\n",
        "window_length = n_steps + 1 # target <= input shifted 1 character ahead\n",
        "dataset = dataset.repeat().window(window_length, shift=1, drop_remainder=True)"
      ]
    },
    {
      "cell_type": "markdown",
      "metadata": {
        "id": "1O3Y9SnZJ9gC"
      },
      "source": [
        "모델의 실제 입력으로 사용되는 tensor 형태로 변환 \n",
        "\n",
        "window마다 batch(window_length)를 호출 "
      ]
    },
    {
      "cell_type": "code",
      "execution_count": 12,
      "metadata": {
        "id": "bYR5x7YMJ9gC"
      },
      "outputs": [],
      "source": [
        "dataset = dataset.flat_map(lambda window: window.batch(window_length))"
      ]
    },
    {
      "cell_type": "code",
      "execution_count": 13,
      "metadata": {
        "id": "yEmqP783J9gD"
      },
      "outputs": [],
      "source": [
        "np.random.seed(42)\n",
        "tf.random.set_seed(42)"
      ]
    },
    {
      "cell_type": "code",
      "execution_count": 14,
      "metadata": {
        "id": "83e4JuGDJ9gE"
      },
      "outputs": [],
      "source": [
        "batch_size = 32\n",
        "dataset = dataset.shuffle(10000).batch(batch_size)\n",
        "dataset = dataset.map(lambda windows: (windows[:, :-1], windows[:, 1:]))"
      ]
    },
    {
      "cell_type": "markdown",
      "metadata": {
        "id": "ga6c_TD4J9gE"
      },
      "source": [
        "One-hot encoding "
      ]
    },
    {
      "cell_type": "code",
      "execution_count": 15,
      "metadata": {
        "id": "9VI6uDrlJ9gF"
      },
      "outputs": [],
      "source": [
        "dataset = dataset.map(\n",
        "    lambda X_batch, Y_batch: (tf.one_hot(X_batch, depth=max_id), Y_batch))\n",
        "\n",
        "dataset = dataset.prefetch(1)"
      ]
    },
    {
      "cell_type": "markdown",
      "metadata": {
        "id": "R2T6qz2fJ9gF"
      },
      "source": [
        "(batch_size, n_steps, max_id) (batch_size, n_steps) "
      ]
    },
    {
      "cell_type": "code",
      "execution_count": 16,
      "metadata": {
        "colab": {
          "base_uri": "https://localhost:8080/"
        },
        "id": "WBKimDCEJ9gG",
        "outputId": "cc6eefd9-1975-4fe9-ff16-67e5e5e634f5"
      },
      "outputs": [
        {
          "output_type": "stream",
          "name": "stdout",
          "text": [
            "(32, 100, 813) (32, 100)\n"
          ]
        }
      ],
      "source": [
        "for X_batch, Y_batch in dataset.take(1):\n",
        "    print(X_batch.shape, Y_batch.shape)"
      ]
    },
    {
      "cell_type": "code",
      "execution_count": 18,
      "metadata": {
        "id": "JChrheaqJ9gH"
      },
      "outputs": [],
      "source": [
        "model = tf.keras.models.Sequential([\n",
        "    tf.keras.layers.LSTM(128, return_sequences=True, input_shape=[None, max_id], dropout=0.2),\n",
        "    tf.keras.layers.Activation('relu'),\n",
        "    tf.keras.layers.LSTM(64, return_sequences=True, dropout=0.2),\n",
        "    tf.keras.layers.Activation('relu'),\n",
        "    tf.keras.layers.LSTM(32, return_sequences=True, dropout=0.2),\n",
        "    tf.keras.layers.Activation('relu'),\n",
        "    tf.keras.layers.Dense(max_id, activation=\"softmax\")\n",
        "])\n",
        "\n",
        "model.compile(optimizer=\"adam\", loss=\"sparse_categorical_crossentropy\", metrics=['accuracy'])"
      ]
    },
    {
      "cell_type": "code",
      "execution_count": 20,
      "metadata": {
        "scrolled": true,
        "colab": {
          "base_uri": "https://localhost:8080/"
        },
        "id": "kh2ABHyrJ9gI",
        "outputId": "650ec2b0-0121-4a85-c3a8-4d446843cb5a"
      },
      "outputs": [
        {
          "output_type": "stream",
          "name": "stdout",
          "text": [
            "Epoch 1/10\n",
            "655/655 [==============================] - 316s 480ms/step - loss: 4.3801 - accuracy: 0.2583\n",
            "Epoch 2/10\n",
            "655/655 [==============================] - 307s 469ms/step - loss: 4.3704 - accuracy: 0.2590\n",
            "Epoch 3/10\n",
            "655/655 [==============================] - 309s 471ms/step - loss: 4.3689 - accuracy: 0.2590\n",
            "Epoch 4/10\n",
            "655/655 [==============================] - 310s 474ms/step - loss: 4.3704 - accuracy: 0.2590\n",
            "Epoch 5/10\n",
            "655/655 [==============================] - 310s 473ms/step - loss: 4.3676 - accuracy: 0.2591\n",
            "Epoch 6/10\n",
            "655/655 [==============================] - 337s 515ms/step - loss: 4.3686 - accuracy: 0.2591\n",
            "Epoch 7/10\n",
            "655/655 [==============================] - 313s 478ms/step - loss: 4.3675 - accuracy: 0.2591\n",
            "Epoch 8/10\n",
            "655/655 [==============================] - 309s 472ms/step - loss: 4.3683 - accuracy: 0.2592\n",
            "Epoch 9/10\n",
            "655/655 [==============================] - 310s 473ms/step - loss: 4.3676 - accuracy: 0.2590\n",
            "Epoch 10/10\n",
            "655/655 [==============================] - 309s 472ms/step - loss: 4.3686 - accuracy: 0.2592\n"
          ]
        }
      ],
      "source": [
        "history = model.fit(dataset, steps_per_epoch=train_size // batch_size, epochs=10)"
      ]
    },
    {
      "cell_type": "code",
      "execution_count": 21,
      "metadata": {
        "colab": {
          "base_uri": "https://localhost:8080/"
        },
        "id": "HQ0jsKwrJ9gI",
        "outputId": "7830fb99-6a98-4eb9-d3e8-a1febcd9431f"
      },
      "outputs": [
        {
          "output_type": "stream",
          "name": "stdout",
          "text": [
            "Model: \"sequential_1\"\n",
            "_________________________________________________________________\n",
            " Layer (type)                Output Shape              Param #   \n",
            "=================================================================\n",
            " lstm_3 (LSTM)               (None, None, 128)         482304    \n",
            "                                                                 \n",
            " activation_3 (Activation)   (None, None, 128)         0         \n",
            "                                                                 \n",
            " lstm_4 (LSTM)               (None, None, 64)          49408     \n",
            "                                                                 \n",
            " activation_4 (Activation)   (None, None, 64)          0         \n",
            "                                                                 \n",
            " lstm_5 (LSTM)               (None, None, 32)          12416     \n",
            "                                                                 \n",
            " activation_5 (Activation)   (None, None, 32)          0         \n",
            "                                                                 \n",
            " dense_1 (Dense)             (None, None, 813)         26829     \n",
            "                                                                 \n",
            "=================================================================\n",
            "Total params: 570,957\n",
            "Trainable params: 570,957\n",
            "Non-trainable params: 0\n",
            "_________________________________________________________________\n"
          ]
        }
      ],
      "source": [
        "# Check its architecture\n",
        "model.summary()"
      ]
    },
    {
      "cell_type": "markdown",
      "metadata": {
        "id": "qED721xwJ9gJ"
      },
      "source": [
        "모델 사용하기\n",
        "\n",
        "모델에 새로운 텍스트 입력을 위한 전처리 "
      ]
    },
    {
      "cell_type": "code",
      "execution_count": 22,
      "metadata": {
        "id": "Zo7vgqZPJ9gJ"
      },
      "outputs": [],
      "source": [
        "def preprocess(texts):\n",
        "    X = np.array(tokenizer.texts_to_sequences(texts)) - 1\n",
        "    return tf.one_hot(X, max_id)"
      ]
    },
    {
      "cell_type": "code",
      "execution_count": 29,
      "metadata": {
        "colab": {
          "base_uri": "https://localhost:8080/",
          "height": 35
        },
        "id": "ngcO0MD4J9gK",
        "outputId": "6b670788-cd07-4782-8414-e25baf8121db"
      },
      "outputs": [
        {
          "output_type": "execute_result",
          "data": {
            "application/vnd.google.colaboratory.intrinsic+json": {
              "type": "string"
            },
            "text/plain": [
              "' '"
            ]
          },
          "metadata": {},
          "execution_count": 29
        }
      ],
      "source": [
        "X_new = preprocess([\"날개야 다시 돋\"])\n",
        "y_prob = model.predict(X_new)\n",
        "Y_pred = y_prob.argmax(axis=-1)\n",
        "tokenizer.sequences_to_texts(Y_pred + 1)[0][-1] # 1st sentence, last char"
      ]
    },
    {
      "cell_type": "code",
      "execution_count": 30,
      "metadata": {
        "colab": {
          "base_uri": "https://localhost:8080/"
        },
        "id": "YMyWxP7TJ9gL",
        "outputId": "1e3e39ea-a627-45c9-b28c-823044ecfafa"
      },
      "outputs": [
        {
          "output_type": "execute_result",
          "data": {
            "text/plain": [
              "array([[0, 1, 0, 2, 1]])"
            ]
          },
          "metadata": {},
          "execution_count": 30
        }
      ],
      "source": [
        "tf.random.set_seed(42)\n",
        "# https://www.tensorflow.org/versions/r2.1/api_docs/python/tf/random/categorical \n",
        "tf.random.categorical([[np.log(0.5), np.log(0.4), np.log(0.1)]], num_samples=5).numpy()"
      ]
    },
    {
      "cell_type": "markdown",
      "metadata": {
        "id": "xO5J1-g_J9gL"
      },
      "source": [
        "다음 글자를 온도에 따라 선택 \n",
        "\n",
        "온도가 매우 높으면 모든 글자가 동일한 확률을 가짐 "
      ]
    },
    {
      "cell_type": "code",
      "execution_count": 31,
      "metadata": {
        "id": "c64jI9YhJ9gM"
      },
      "outputs": [],
      "source": [
        "def next_char(text, temperature=1):\n",
        "    X_new = preprocess([text])\n",
        "    y_proba = model.predict(X_new)[0, -1:, :]\n",
        "    rescaled_logits = tf.math.log(y_proba) / temperature\n",
        "    char_id = tf.random.categorical(rescaled_logits, num_samples=1) + 1\n",
        "    return tokenizer.sequences_to_texts(char_id.numpy())[0]"
      ]
    },
    {
      "cell_type": "code",
      "execution_count": 33,
      "metadata": {
        "colab": {
          "base_uri": "https://localhost:8080/",
          "height": 35
        },
        "id": "0Nxs2yv2J9gM",
        "outputId": "f1352ad3-0c17-4385-f0f5-daf6ef21788e"
      },
      "outputs": [
        {
          "output_type": "execute_result",
          "data": {
            "application/vnd.google.colaboratory.intrinsic+json": {
              "type": "string"
            },
            "text/plain": [
              "'\\n'"
            ]
          },
          "metadata": {},
          "execution_count": 33
        }
      ],
      "source": [
        "tf.random.set_seed(42)\n",
        "\n",
        "next_char(\"날개야 다시 돋\", temperature=1)"
      ]
    },
    {
      "cell_type": "code",
      "execution_count": 34,
      "metadata": {
        "colab": {
          "base_uri": "https://localhost:8080/",
          "height": 35
        },
        "id": "GI0VVSYxJ9gN",
        "outputId": "7d919efb-3c39-4f3b-c304-3f441302579b"
      },
      "outputs": [
        {
          "output_type": "execute_result",
          "data": {
            "application/vnd.google.colaboratory.intrinsic+json": {
              "type": "string"
            },
            "text/plain": [
              "' '"
            ]
          },
          "metadata": {},
          "execution_count": 34
        }
      ],
      "source": [
        "next_char(\"날개야 다시 돋\", temperature=0.1)"
      ]
    },
    {
      "cell_type": "markdown",
      "metadata": {
        "id": "C1Sy9jQSJ9gO"
      },
      "source": [
        "다음 글자를 반복적으로 얻어서 텍스트에 추가 "
      ]
    },
    {
      "cell_type": "code",
      "execution_count": 35,
      "metadata": {
        "id": "4Q9hCNU6J9gO"
      },
      "outputs": [],
      "source": [
        "def complete_text(text, n_chars=50, temperature=1):\n",
        "    for _ in range(n_chars):\n",
        "        text += next_char(text, temperature)\n",
        "    return text"
      ]
    },
    {
      "cell_type": "code",
      "execution_count": 36,
      "metadata": {
        "scrolled": true,
        "colab": {
          "base_uri": "https://localhost:8080/"
        },
        "id": "6LsIQtmdJ9gO",
        "outputId": "f1c65936-c5fb-469b-c812-19e1392370c3"
      },
      "outputs": [
        {
          "output_type": "stream",
          "name": "stdout",
          "text": [
            "이                                                  \n"
          ]
        }
      ],
      "source": [
        "tf.random.set_seed(42)\n",
        "\n",
        "print(complete_text(\"이\", temperature=0.1))"
      ]
    },
    {
      "cell_type": "code",
      "execution_count": 37,
      "metadata": {
        "colab": {
          "base_uri": "https://localhost:8080/"
        },
        "id": "Sp7niFoSJ9gP",
        "outputId": "f6d5159f-67d9-4277-c960-958b6f5b0480"
      },
      "outputs": [
        {
          "output_type": "stream",
          "name": "stdout",
          "text": [
            "이                                                  \n"
          ]
        }
      ],
      "source": [
        "print(complete_text(\"이\", temperature=0.25))"
      ]
    },
    {
      "cell_type": "code",
      "execution_count": 38,
      "metadata": {
        "colab": {
          "base_uri": "https://localhost:8080/"
        },
        "id": "yhUJyzTcJ9gP",
        "outputId": "ad7271f0-da5b-45c6-a8d4-2f2d4d181b08"
      },
      "outputs": [
        {
          "output_type": "stream",
          "name": "stdout",
          "text": [
            "이      하 는      한           내                   이  \n"
          ]
        }
      ],
      "source": [
        "print(complete_text(\"이\", temperature=0.5))"
      ]
    },
    {
      "cell_type": "code",
      "execution_count": 39,
      "metadata": {
        "colab": {
          "base_uri": "https://localhost:8080/"
        },
        "id": "URqPxIkiJ9gQ",
        "outputId": "8b0a693b-b916-429a-82d6-443f6e157427"
      },
      "outputs": [
        {
          "output_type": "stream",
          "name": "stdout",
          "text": [
            "이굴    는나      내.을이만게 . 가풍  가서 고날    불신  다는시 의    여 \n"
          ]
        }
      ],
      "source": [
        "print(complete_text(\"이\", temperature=0.75))"
      ]
    },
    {
      "cell_type": "code",
      "execution_count": 40,
      "metadata": {
        "colab": {
          "base_uri": "https://localhost:8080/"
        },
        "id": "lgLhgh_yJ9gQ",
        "outputId": "e5d0dc89-29bd-4225-fb06-cf3a798a0eba"
      },
      "outputs": [
        {
          "output_type": "stream",
          "name": "stdout",
          "text": [
            "이티있나를 았다 틀이 됐가겠 는적당  그   지  다  번도화느 까내하그  는를는 하  을어\n"
          ]
        }
      ],
      "source": [
        "print(complete_text(\"이\", temperature=1))"
      ]
    },
    {
      "cell_type": "code",
      "execution_count": 41,
      "metadata": {
        "colab": {
          "base_uri": "https://localhost:8080/"
        },
        "id": "WWqCoV8xJ9gQ",
        "outputId": "32ab5cdb-8943-4b56-9c2a-09a2e6b5adf5"
      },
      "outputs": [
        {
          "output_type": "stream",
          "name": "stdout",
          "text": [
            "이않면은란늘뒤인목배일역아짐의르이히동\n",
            "빈나천없증로돋그한규돌니기뿐고벙는좋히쌉자후다면구결소가줄망.\n"
          ]
        }
      ],
      "source": [
        "print(complete_text(\"이\", temperature=2))"
      ]
    },
    {
      "cell_type": "code",
      "execution_count": 42,
      "metadata": {
        "colab": {
          "base_uri": "https://localhost:8080/"
        },
        "id": "sK8c32tbJ9gR",
        "outputId": "f42af82f-4edd-4fbf-b6b6-2a396f1d6464"
      },
      "outputs": [
        {
          "output_type": "stream",
          "name": "stdout",
          "text": [
            "나                                                  \n"
          ]
        }
      ],
      "source": [
        "print(complete_text(\"나\", temperature=0.2))"
      ]
    },
    {
      "cell_type": "code",
      "execution_count": 43,
      "metadata": {
        "colab": {
          "base_uri": "https://localhost:8080/"
        },
        "id": "bMs-_PlhJ9gR",
        "outputId": "d50def80-25df-4d99-b7a2-ea05d0f5efd3"
      },
      "outputs": [
        {
          "output_type": "stream",
          "name": "stdout",
          "text": [
            "나                                                  \n"
          ]
        }
      ],
      "source": [
        "print(complete_text(\"나\", temperature=0.25))"
      ]
    },
    {
      "cell_type": "code",
      "execution_count": 44,
      "metadata": {
        "colab": {
          "base_uri": "https://localhost:8080/"
        },
        "id": "wtNiphFhJ9gR",
        "outputId": "00622ccf-ebef-4df1-8d9f-4a688fab1dc4"
      },
      "outputs": [
        {
          "output_type": "stream",
          "name": "stdout",
          "text": [
            "나    그                                 하    이      \n"
          ]
        }
      ],
      "source": [
        "print(complete_text(\"나\", temperature=0.5))"
      ]
    },
    {
      "cell_type": "code",
      "execution_count": 45,
      "metadata": {
        "colab": {
          "base_uri": "https://localhost:8080/"
        },
        "id": "_ABQPJknJ9gS",
        "outputId": "755503fa-f8fc-40c0-9d2a-f57807536972"
      },
      "outputs": [
        {
          "output_type": "stream",
          "name": "stdout",
          "text": [
            "나내 달은\n",
            " 까도는많다  ,을 지무 아    터 는내    는.   는 사 도    내   \n"
          ]
        }
      ],
      "source": [
        "print(complete_text(\"나\", temperature=0.75))"
      ]
    },
    {
      "cell_type": "code",
      "execution_count": 46,
      "metadata": {
        "colab": {
          "base_uri": "https://localhost:8080/"
        },
        "id": "T7dIu1zgJ9gS",
        "outputId": "affbd6a1-b04d-4afb-ec12-9d2959cb8c33"
      },
      "outputs": [
        {
          "output_type": "stream",
          "name": "stdout",
          "text": [
            "나이,리잠  구 고 가낀다  .리달에을불좀심개다늘처?것줄 않좀아있,면소것 는 뒹다생지 람에의\n"
          ]
        }
      ],
      "source": [
        "print(complete_text(\"나\", temperature=1))"
      ]
    },
    {
      "cell_type": "code",
      "execution_count": 47,
      "metadata": {
        "colab": {
          "base_uri": "https://localhost:8080/"
        },
        "id": "-GHi7KfjJ9gT",
        "outputId": "52a8e880-dbd8-4ff8-82ba-697ce2a2a1cd"
      },
      "outputs": [
        {
          "output_type": "stream",
          "name": "stdout",
          "text": [
            "나뒤방순로돈재이완규 없렸제 일쓰환났재심엇송서긴낙눕고 3않각후똑늘군건\n",
            "뚫서쾌러결람-생셔법겼피망\n"
          ]
        }
      ],
      "source": [
        "print(complete_text(\"나\", temperature=2))"
      ]
    },
    {
      "cell_type": "code",
      "execution_count": 48,
      "metadata": {
        "colab": {
          "base_uri": "https://localhost:8080/"
        },
        "id": "gOq6pa5fJ9gT",
        "outputId": "e352487a-ab58-43d2-8f0c-1abdf63d1455"
      },
      "outputs": [
        {
          "output_type": "stream",
          "name": "stdout",
          "text": [
            "병마                                                  \n"
          ]
        }
      ],
      "source": [
        "print(complete_text(\"병마\", temperature=0.25))"
      ]
    },
    {
      "cell_type": "code",
      "execution_count": null,
      "metadata": {
        "id": "j792yptOJ9gT"
      },
      "outputs": [],
      "source": [
        ""
      ]
    }
  ],
  "metadata": {
    "kernelspec": {
      "display_name": "Tensorflow",
      "language": "python",
      "name": "tf2"
    },
    "language_info": {
      "codemirror_mode": {
        "name": "ipython",
        "version": 3
      },
      "file_extension": ".py",
      "mimetype": "text/x-python",
      "name": "python",
      "nbconvert_exporter": "python",
      "pygments_lexer": "ipython3",
      "version": "3.7.7"
    },
    "colab": {
      "name": "[실습과제#5]_홍윤화_2018272075.ipynb",
      "provenance": []
    }
  },
  "nbformat": 4,
  "nbformat_minor": 0
}